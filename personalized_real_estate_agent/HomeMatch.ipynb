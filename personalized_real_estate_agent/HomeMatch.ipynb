{
 "cells": [
  {
   "cell_type": "code",
   "execution_count": 49,
   "id": "6554fd4c",
   "metadata": {},
   "outputs": [],
   "source": [
    "import os\n",
    "\n",
    "os.environ[\"OPENAI_API_KEY\"] = \"Your API Key\"\n",
    "os.environ[\"OPENAI_API_BASE\"] = \"https://openai.vocareum.com/v1\"\n",
    "\n",
    "from langchain.chat_models import ChatOpenAI\n",
    "from langchain.prompts import PromptTemplate\n",
    "from langchain.schema import HumanMessage\n",
    "from langchain.document_loaders.csv_loader import CSVLoader\n",
    "from langchain.embeddings.openai import OpenAIEmbeddings\n",
    "from langchain.text_splitter import CharacterTextSplitter\n",
    "from langchain.vectorstores import Chroma\n",
    "from langchain.chains.question_answering import load_qa_chain"
   ]
  },
  {
   "cell_type": "markdown",
   "id": "1fa9f921",
   "metadata": {},
   "source": [
    "## Generate Real Estate Listings"
   ]
  },
  {
   "cell_type": "code",
   "execution_count": 4,
   "id": "f233bb75",
   "metadata": {},
   "outputs": [],
   "source": [
    "model_name = \"gpt-3.5-turbo\"\n",
    "llm = ChatOpenAI()"
   ]
  },
  {
   "cell_type": "code",
   "execution_count": 5,
   "id": "8bc722a6",
   "metadata": {},
   "outputs": [],
   "source": [
    "data_gen_template = \"\"\"\n",
    "Generate CSV formatted real estate listings for {num_listings} properties in San Francisco downtown area. Come up with a \n",
    "neighborhood name, price of the properties in dollar, number of bedrooms, number of bathrooms, the size of the the house in sqft, \n",
    "a description, and a neighborhood description for each listing. Each listing will have these fields in the CSV: Neighborhood, Price, Bedrooms, Bathrooms, House Size, Description, Neighborhood Description. \n",
    "Be creative when writing the description and neighborhood description. CSV format is a must.\n",
    "\"\"\""
   ]
  },
  {
   "cell_type": "code",
   "execution_count": 6,
   "id": "7edbdac3",
   "metadata": {},
   "outputs": [],
   "source": [
    "num_listings = 10\n",
    "data_gen_prompt = PromptTemplate(template=data_gen_template, input_variables=[\"num_listings\"])\n",
    "data_gen_query = data_gen_prompt.format(num_listings=num_listings)"
   ]
  },
  {
   "cell_type": "code",
   "execution_count": 7,
   "id": "cb95adce",
   "metadata": {},
   "outputs": [],
   "source": [
    "generated_listings = llm.predict(data_gen_query)"
   ]
  },
  {
   "cell_type": "code",
   "execution_count": 8,
   "id": "e672675b",
   "metadata": {},
   "outputs": [
    {
     "data": {
      "text/plain": [
       "'Neighborhood,Price,Bedrooms,Bathrooms,House Size,Description,Neighborhood Description\\nNob Hill,1500000,2,2,1200,\"Charming 2 bedroom, 2 bathroom condo with stunning city views. Updated kitchen and spacious living room.\",\"Nob Hill is known for its historic mansions, cable cars, and upscale boutiques.\"\\nSoMa,1300000,3,2,1400,\"Modern 3 bedroom, 2 bathroom loft with high ceilings and industrial finishes. Open floor plan perfect for entertaining.\",\"SoMa is a vibrant neighborhood with tech offices, trendy restaurants, and art galleries.\"\\nFinancial District,1800000,2,2.5,1600,\"Luxurious 2 bedroom, 2.5 bathroom penthouse with panoramic views of the Bay Bridge and skyline. Gourmet kitchen and marble bathrooms.\",\"The Financial District is the heart of San Francisco\\'s business district, with high-rise buildings and upscale dining options.\"\\nUnion Square,1200000,1,1,900,\"Cozy 1 bedroom, 1 bathroom apartment with hardwood floors and a private balcony. Close to shopping and dining in Union Square.\",\"Union Square is a bustling commercial area with upscale department stores, theaters, and art galleries.\"\\nChinatown,1000000,2,1,1000,\"Spacious 2 bedroom, 1 bathroom condo with a modern kitchen and hardwood floors. Walking distance to Chinatown\\'s vibrant shops and restaurants.\",\"Chinatown is a bustling neighborhood with colorful lanterns, dim sum restaurants, and traditional Chinese architecture.\"\\nNorth Beach,1400000,3,2,1500,\"Bright 3 bedroom, 2 bathroom townhouse with a private patio and garage parking. Close to Washington Square Park and Italian cafes.\",\"North Beach is a lively neighborhood known for its Italian heritage, cafes, and nightlife.\"\\nMission District,1100000,2,1.5,1100,\"Remodeled 2 bedroom, 1.5 bathroom Victorian home with a landscaped backyard. Original details and modern amenities.\",\"The Mission District is a diverse neighborhood with vibrant murals, hipster cafes, and trendy shops.\"\\nHayes Valley,1600000,4,3,1800,\"Spacious 4 bedroom, 3 bathroom Victorian home with a modern kitchen and backyard garden. Close to Hayes Valley\\'s boutiques and restaurants.\",\"Hayes Valley is a trendy neighborhood known for its upscale boutiques, hip cafes, and proximity to the arts district.\"\\nTenderloin,900000,1,1,800,\"Cozy 1 bedroom, 1 bathroom apartment with a renovated kitchen and city views. Close to theaters and nightlife in the Tenderloin.\",\"The Tenderloin is a historic neighborhood with a mix of residential buildings, theaters, and diverse dining options.\"\\nRussian Hill,1700000,3,2.5,1700,\"Elegant 3 bedroom, 2.5 bathroom townhouse with a private rooftop deck and views of the Golden Gate Bridge. Gourmet kitchen and luxurious master suite.\",\"Russian Hill is a picturesque neighborhood with steep hills, historic cable cars, and stunning views of the bay.\"'"
      ]
     },
     "execution_count": 8,
     "metadata": {},
     "output_type": "execute_result"
    }
   ],
   "source": [
    "# take a look at the generated listing\n",
    "generated_listings"
   ]
  },
  {
   "cell_type": "code",
   "execution_count": 9,
   "id": "5371510d",
   "metadata": {},
   "outputs": [],
   "source": [
    "# uncomment if you recreate the listings and would like to save the data into a csv file\n",
    "# with open('listings.csv', 'w', newline='') as file:\n",
    "#     file.write(generated_listings)"
   ]
  },
  {
   "cell_type": "code",
   "execution_count": 1,
   "id": "6ab05119",
   "metadata": {},
   "outputs": [
    {
     "name": "stdout",
     "output_type": "stream",
     "text": [
      "Defaulting to user installation because normal site-packages is not writeable\n",
      "Requirement already satisfied: pandas in /home/student/.local/lib/python3.10/site-packages (2.2.3)\n",
      "Requirement already satisfied: numpy>=1.22.4 in /opt/conda/lib/python3.10/site-packages (from pandas) (1.24.3)\n",
      "Requirement already satisfied: pytz>=2020.1 in /opt/conda/lib/python3.10/site-packages (from pandas) (2022.7)\n",
      "Requirement already satisfied: tzdata>=2022.7 in /home/student/.local/lib/python3.10/site-packages (from pandas) (2025.2)\n",
      "Requirement already satisfied: python-dateutil>=2.8.2 in /opt/conda/lib/python3.10/site-packages (from pandas) (2.9.0.post0)\n",
      "Requirement already satisfied: six>=1.5 in /opt/conda/lib/python3.10/site-packages (from python-dateutil>=2.8.2->pandas) (1.16.0)\n"
     ]
    }
   ],
   "source": [
    "!pip install pandas"
   ]
  },
  {
   "cell_type": "markdown",
   "id": "e90e68be",
   "metadata": {},
   "source": [
    "## Store Listings in a Vector Database"
   ]
  },
  {
   "cell_type": "code",
   "execution_count": 10,
   "id": "8cd7688d",
   "metadata": {},
   "outputs": [],
   "source": [
    "import pandas as pd\n",
    "df = pd.read_csv(\"listings.csv\")"
   ]
  },
  {
   "cell_type": "code",
   "execution_count": 11,
   "id": "c9ecc0ad",
   "metadata": {
    "scrolled": true
   },
   "outputs": [
    {
     "data": {
      "text/html": [
       "<div>\n",
       "<style scoped>\n",
       "    .dataframe tbody tr th:only-of-type {\n",
       "        vertical-align: middle;\n",
       "    }\n",
       "\n",
       "    .dataframe tbody tr th {\n",
       "        vertical-align: top;\n",
       "    }\n",
       "\n",
       "    .dataframe thead th {\n",
       "        text-align: right;\n",
       "    }\n",
       "</style>\n",
       "<table border=\"1\" class=\"dataframe\">\n",
       "  <thead>\n",
       "    <tr style=\"text-align: right;\">\n",
       "      <th></th>\n",
       "      <th>Neighborhood</th>\n",
       "      <th>Price</th>\n",
       "      <th>Bedrooms</th>\n",
       "      <th>Bathrooms</th>\n",
       "      <th>House Size</th>\n",
       "      <th>Description</th>\n",
       "      <th>Neighborhood Description</th>\n",
       "    </tr>\n",
       "  </thead>\n",
       "  <tbody>\n",
       "    <tr>\n",
       "      <th>0</th>\n",
       "      <td>Nob Hill</td>\n",
       "      <td>1500000</td>\n",
       "      <td>2</td>\n",
       "      <td>2.0</td>\n",
       "      <td>1200</td>\n",
       "      <td>Charming 2 bedroom, 2 bathroom condo with stunning city views. Updated kitchen and spacious living room.</td>\n",
       "      <td>Nob Hill is known for its historic mansions, cable cars, and upscale boutiques.</td>\n",
       "    </tr>\n",
       "    <tr>\n",
       "      <th>1</th>\n",
       "      <td>SoMa</td>\n",
       "      <td>1300000</td>\n",
       "      <td>3</td>\n",
       "      <td>2.0</td>\n",
       "      <td>1400</td>\n",
       "      <td>Modern 3 bedroom, 2 bathroom loft with high ceilings and industrial finishes. Open floor plan perfect for entertaining.</td>\n",
       "      <td>SoMa is a vibrant neighborhood with tech offices, trendy restaurants, and art galleries.</td>\n",
       "    </tr>\n",
       "    <tr>\n",
       "      <th>2</th>\n",
       "      <td>Financial District</td>\n",
       "      <td>1800000</td>\n",
       "      <td>2</td>\n",
       "      <td>2.5</td>\n",
       "      <td>1600</td>\n",
       "      <td>Luxurious 2 bedroom, 2.5 bathroom penthouse with panoramic views of the Bay Bridge and skyline. Gourmet kitchen and marble bathrooms.</td>\n",
       "      <td>The Financial District is the heart of San Francisco's business district, with high-rise buildings and upscale dining options.</td>\n",
       "    </tr>\n",
       "    <tr>\n",
       "      <th>3</th>\n",
       "      <td>Union Square</td>\n",
       "      <td>1200000</td>\n",
       "      <td>1</td>\n",
       "      <td>1.0</td>\n",
       "      <td>900</td>\n",
       "      <td>Cozy 1 bedroom, 1 bathroom apartment with hardwood floors and a private balcony. Close to shopping and dining in Union Square.</td>\n",
       "      <td>Union Square is a bustling commercial area with upscale department stores, theaters, and art galleries.</td>\n",
       "    </tr>\n",
       "    <tr>\n",
       "      <th>4</th>\n",
       "      <td>Chinatown</td>\n",
       "      <td>1000000</td>\n",
       "      <td>2</td>\n",
       "      <td>1.0</td>\n",
       "      <td>1000</td>\n",
       "      <td>Spacious 2 bedroom, 1 bathroom condo with a modern kitchen and hardwood floors. Walking distance to Chinatown's vibrant shops and restaurants.</td>\n",
       "      <td>Chinatown is a bustling neighborhood with colorful lanterns, dim sum restaurants, and traditional Chinese architecture.</td>\n",
       "    </tr>\n",
       "    <tr>\n",
       "      <th>5</th>\n",
       "      <td>North Beach</td>\n",
       "      <td>1400000</td>\n",
       "      <td>3</td>\n",
       "      <td>2.0</td>\n",
       "      <td>1500</td>\n",
       "      <td>Bright 3 bedroom, 2 bathroom townhouse with a private patio and garage parking. Close to Washington Square Park and Italian cafes.</td>\n",
       "      <td>North Beach is a lively neighborhood known for its Italian heritage, cafes, and nightlife.</td>\n",
       "    </tr>\n",
       "    <tr>\n",
       "      <th>6</th>\n",
       "      <td>Mission District</td>\n",
       "      <td>1100000</td>\n",
       "      <td>2</td>\n",
       "      <td>1.5</td>\n",
       "      <td>1100</td>\n",
       "      <td>Remodeled 2 bedroom, 1.5 bathroom Victorian home with a landscaped backyard. Original details and modern amenities.</td>\n",
       "      <td>The Mission District is a diverse neighborhood with vibrant murals, hipster cafes, and trendy shops.</td>\n",
       "    </tr>\n",
       "    <tr>\n",
       "      <th>7</th>\n",
       "      <td>Hayes Valley</td>\n",
       "      <td>1600000</td>\n",
       "      <td>4</td>\n",
       "      <td>3.0</td>\n",
       "      <td>1800</td>\n",
       "      <td>Spacious 4 bedroom, 3 bathroom Victorian home with a modern kitchen and backyard garden. Close to Hayes Valley's boutiques and restaurants.</td>\n",
       "      <td>Hayes Valley is a trendy neighborhood known for its upscale boutiques, hip cafes, and proximity to the arts district.</td>\n",
       "    </tr>\n",
       "    <tr>\n",
       "      <th>8</th>\n",
       "      <td>Tenderloin</td>\n",
       "      <td>900000</td>\n",
       "      <td>1</td>\n",
       "      <td>1.0</td>\n",
       "      <td>800</td>\n",
       "      <td>Cozy 1 bedroom, 1 bathroom apartment with a renovated kitchen and city views. Close to theaters and nightlife in the Tenderloin.</td>\n",
       "      <td>The Tenderloin is a historic neighborhood with a mix of residential buildings, theaters, and diverse dining options.</td>\n",
       "    </tr>\n",
       "    <tr>\n",
       "      <th>9</th>\n",
       "      <td>Russian Hill</td>\n",
       "      <td>1700000</td>\n",
       "      <td>3</td>\n",
       "      <td>2.5</td>\n",
       "      <td>1700</td>\n",
       "      <td>Elegant 3 bedroom, 2.5 bathroom townhouse with a private rooftop deck and views of the Golden Gate Bridge. Gourmet kitchen and luxurious master suite.</td>\n",
       "      <td>Russian Hill is a picturesque neighborhood with steep hills, historic cable cars, and stunning views of the bay.</td>\n",
       "    </tr>\n",
       "  </tbody>\n",
       "</table>\n",
       "</div>"
      ],
      "text/plain": [
       "         Neighborhood    Price  Bedrooms  Bathrooms  House Size  \\\n",
       "0            Nob Hill  1500000         2        2.0        1200   \n",
       "1                SoMa  1300000         3        2.0        1400   \n",
       "2  Financial District  1800000         2        2.5        1600   \n",
       "3        Union Square  1200000         1        1.0         900   \n",
       "4           Chinatown  1000000         2        1.0        1000   \n",
       "5         North Beach  1400000         3        2.0        1500   \n",
       "6    Mission District  1100000         2        1.5        1100   \n",
       "7        Hayes Valley  1600000         4        3.0        1800   \n",
       "8          Tenderloin   900000         1        1.0         800   \n",
       "9        Russian Hill  1700000         3        2.5        1700   \n",
       "\n",
       "                                                                                                                                              Description  \\\n",
       "0                                                Charming 2 bedroom, 2 bathroom condo with stunning city views. Updated kitchen and spacious living room.   \n",
       "1                                 Modern 3 bedroom, 2 bathroom loft with high ceilings and industrial finishes. Open floor plan perfect for entertaining.   \n",
       "2                   Luxurious 2 bedroom, 2.5 bathroom penthouse with panoramic views of the Bay Bridge and skyline. Gourmet kitchen and marble bathrooms.   \n",
       "3                          Cozy 1 bedroom, 1 bathroom apartment with hardwood floors and a private balcony. Close to shopping and dining in Union Square.   \n",
       "4          Spacious 2 bedroom, 1 bathroom condo with a modern kitchen and hardwood floors. Walking distance to Chinatown's vibrant shops and restaurants.   \n",
       "5                      Bright 3 bedroom, 2 bathroom townhouse with a private patio and garage parking. Close to Washington Square Park and Italian cafes.   \n",
       "6                                     Remodeled 2 bedroom, 1.5 bathroom Victorian home with a landscaped backyard. Original details and modern amenities.   \n",
       "7             Spacious 4 bedroom, 3 bathroom Victorian home with a modern kitchen and backyard garden. Close to Hayes Valley's boutiques and restaurants.   \n",
       "8                        Cozy 1 bedroom, 1 bathroom apartment with a renovated kitchen and city views. Close to theaters and nightlife in the Tenderloin.   \n",
       "9  Elegant 3 bedroom, 2.5 bathroom townhouse with a private rooftop deck and views of the Golden Gate Bridge. Gourmet kitchen and luxurious master suite.   \n",
       "\n",
       "                                                                                                         Neighborhood Description  \n",
       "0                                                 Nob Hill is known for its historic mansions, cable cars, and upscale boutiques.  \n",
       "1                                        SoMa is a vibrant neighborhood with tech offices, trendy restaurants, and art galleries.  \n",
       "2  The Financial District is the heart of San Francisco's business district, with high-rise buildings and upscale dining options.  \n",
       "3                         Union Square is a bustling commercial area with upscale department stores, theaters, and art galleries.  \n",
       "4         Chinatown is a bustling neighborhood with colorful lanterns, dim sum restaurants, and traditional Chinese architecture.  \n",
       "5                                      North Beach is a lively neighborhood known for its Italian heritage, cafes, and nightlife.  \n",
       "6                            The Mission District is a diverse neighborhood with vibrant murals, hipster cafes, and trendy shops.  \n",
       "7           Hayes Valley is a trendy neighborhood known for its upscale boutiques, hip cafes, and proximity to the arts district.  \n",
       "8            The Tenderloin is a historic neighborhood with a mix of residential buildings, theaters, and diverse dining options.  \n",
       "9                Russian Hill is a picturesque neighborhood with steep hills, historic cable cars, and stunning views of the bay.  "
      ]
     },
     "execution_count": 11,
     "metadata": {},
     "output_type": "execute_result"
    }
   ],
   "source": [
    "pd.set_option('display.max_colwidth', None)\n",
    "df.head(10)"
   ]
  },
  {
   "cell_type": "code",
   "execution_count": 12,
   "id": "a201e637",
   "metadata": {},
   "outputs": [],
   "source": [
    "loader = CSVLoader(file_path=\"./listings.csv\")\n",
    "docs = loader.load()"
   ]
  },
  {
   "cell_type": "code",
   "execution_count": 13,
   "id": "518cd012",
   "metadata": {},
   "outputs": [],
   "source": [
    "splitter = CharacterTextSplitter(chunk_size=1000, chunk_overlap=0)\n",
    "split_docs = splitter.split_documents(docs)"
   ]
  },
  {
   "cell_type": "code",
   "execution_count": 14,
   "id": "7ddc8922",
   "metadata": {},
   "outputs": [],
   "source": [
    "embeddings = OpenAIEmbeddings()"
   ]
  },
  {
   "cell_type": "code",
   "execution_count": 15,
   "id": "2bdde36a",
   "metadata": {},
   "outputs": [],
   "source": [
    "db = Chroma.from_documents(split_docs, embedding=embeddings)"
   ]
  },
  {
   "cell_type": "markdown",
   "id": "cc2e6604",
   "metadata": {},
   "source": [
    "## Build the User Preference Interface"
   ]
  },
  {
   "cell_type": "code",
   "execution_count": 46,
   "id": "9644d31c",
   "metadata": {},
   "outputs": [],
   "source": [
    "questions = [\n",
    "    \"What Neighborhoods are you considering?\", \n",
    "    \"What are 3 most important things for you in choosing a property?\", \n",
    "    \"How many bedrooms do you need?\", \n",
    "    \"How manay bathromms do you need?\"\n",
    "]\n",
    "answers = [\n",
    "    \"SoMa, Financial District, Russian Hill\",\n",
    "    \"Safety, price, view, school quality\",\n",
    "    \"2 or more.\",\n",
    "    \"2 or more.\"\n",
    "]"
   ]
  },
  {
   "cell_type": "code",
   "execution_count": 22,
   "id": "4cfde291",
   "metadata": {},
   "outputs": [],
   "source": [
    "# properly format question and answers \n",
    "user_preferences = \"\"\n",
    "for q, a in zip(questions, answers):\n",
    "    user_preferences += f\"{q} {a}\\n\""
   ]
  },
  {
   "cell_type": "code",
   "execution_count": 23,
   "id": "e1275cbe",
   "metadata": {},
   "outputs": [
    {
     "name": "stdout",
     "output_type": "stream",
     "text": [
      "What Neighborhoods are you considering? SoMa, Financial District, Russian Hill\n",
      "What are 3 most important things for you in choosing a property? Safety, price, and view\n",
      "How many bedrooms do you need? 2 or more.\n",
      "How manay bathromms do you need? 2 or more.\n",
      "\n"
     ]
    }
   ],
   "source": [
    "# make sure formatting is done correctly\n",
    "print(user_preferences)"
   ]
  },
  {
   "cell_type": "markdown",
   "id": "29f8af43",
   "metadata": {},
   "source": [
    "## Search Based on Preferences"
   ]
  },
  {
   "cell_type": "code",
   "execution_count": 24,
   "id": "4c604d18",
   "metadata": {},
   "outputs": [],
   "source": [
    "# find the 5 most relevant listings based on user preferences\n",
    "similar_docs = db.similarity_search(query, k=5)"
   ]
  },
  {
   "cell_type": "code",
   "execution_count": 12,
   "id": "aa7519d7",
   "metadata": {},
   "outputs": [
    {
     "data": {
      "text/plain": [
       "[Document(page_content='Neighborhood: Russian Hill\\nPrice: 1400000\\nBedrooms: 2\\nBathrooms: 2\\nHouse Size: 1600\\nDescription: \"Contemporary loft with exposed brick walls and high ceilings. Offers sweeping views of the Golden Gate Bridge and Alcatraz.\"\\nNeighborhood Description: \"Russian Hill is a charming neighborhood with steep hills and historic cable cars.\"', metadata={'row': 6, 'source': './listings.csv'}),\n",
       " Document(page_content='Neighborhood: Nob Hill\\nPrice: 1500000\\nBedrooms: 3\\nBathrooms: 2\\nHouse Size: 2000\\nDescription: \"Beautifully renovated Victorian home with stunning views of the city. Features a spacious backyard and modern kitchen.\"\\nNeighborhood Description: \"Nob Hill is known for its historic architecture and upscale boutiques.\"', metadata={'row': 0, 'source': './listings.csv'}),\n",
       " Document(page_content='Neighborhood: Pacific Heights\\nPrice: 2500000\\nBedrooms: 5\\nBathrooms: 4\\nHouse Size: 3000\\nDescription: \"Elegant mansion with a grand staircase and formal dining room. Features a landscaped garden and detached guest house.\"\\nNeighborhood Description: \"Pacific Heights is an affluent area known for its Victorian homes and panoramic views of the city.\"', metadata={'row': 4, 'source': './listings.csv'})]"
      ]
     },
     "execution_count": 12,
     "metadata": {},
     "output_type": "execute_result"
    }
   ],
   "source": [
    "# make sure the results make sense\n",
    "similar_docs"
   ]
  },
  {
   "cell_type": "markdown",
   "id": "1c2664a6",
   "metadata": {},
   "source": [
    "## Personalize Listing Descriptions"
   ]
  },
  {
   "cell_type": "code",
   "execution_count": 40,
   "id": "1c1a3d71",
   "metadata": {},
   "outputs": [],
   "source": [
    "instruction = \"\"\"\n",
    "Based on the user preferences survey below and real estate listing in the context, augment the Description, tailoring it to resonate with the buyer’s specific preferences. \n",
    "This involves subtly emphasizing aspects of the property that align with what the buyer is looking for. Ensure that the augmentation process enhances the appeal of the listing without altering factual information.\n",
    "\"\"\""
   ]
  },
  {
   "cell_type": "code",
   "execution_count": 41,
   "id": "da5acedc",
   "metadata": {},
   "outputs": [],
   "source": [
    "prompt = PromptTemplate(\n",
    "    template=\"{instruction}\\n User Preferences Survey:\\n{user_preferences}\\n Context: {context}\",\n",
    "    input_variables=[\"instruction\", \"user_preferences\", \"context\"],\n",
    ")"
   ]
  },
  {
   "cell_type": "code",
   "execution_count": 48,
   "id": "c0e25be5",
   "metadata": {},
   "outputs": [
    {
     "name": "stdout",
     "output_type": "stream",
     "text": [
      "Query: \n",
      "Based on the user preferences survey below and real estate listing in the context, augment the Description, tailoring it to resonate with the buyer’s specific preferences. \n",
      "This involves subtly emphasizing aspects of the property that align with what the buyer is looking for. Ensure that the augmentation process enhances the appeal of the listing without altering factual information.\n",
      "\n",
      " User Preferences Survey:\n",
      "What Neighborhoods are you considering? SoMa, Financial District, Russian Hill\n",
      "What are 3 most important things for you in choosing a property? Safety, price, and view\n",
      "How many bedrooms do you need? 2 or more.\n",
      "How manay bathromms do you need? 2 or more.\n",
      "\n",
      " Context: Neighborhood: SoMa\n",
      "Price: 1300000\n",
      "Bedrooms: 3\n",
      "Bathrooms: 2\n",
      "House Size: 1400\n",
      "Description: Modern 3 bedroom, 2 bathroom loft with high ceilings and industrial finishes. Open floor plan perfect for entertaining.\n",
      "Neighborhood Description: SoMa is a vibrant neighborhood with tech offices, trendy restaurants, and art galleries.\n",
      "******\n",
      "Result: Description: Immerse yourself in the heart of the vibrant SoMa neighborhood with this modern 3 bedroom, 2 bathroom loft. The high ceilings and industrial finishes give a contemporary feel to the open floor plan, ideal for your entertaining needs. Enjoy the safety and security of this well-established neighborhood, while taking in stunning views from the comfort of your own home. Don't miss this opportunity to own a piece of luxury living in SoMa.\n",
      "#################################################\n",
      "Query: \n",
      "Based on the user preferences survey below and real estate listing in the context, augment the Description, tailoring it to resonate with the buyer’s specific preferences. \n",
      "This involves subtly emphasizing aspects of the property that align with what the buyer is looking for. Ensure that the augmentation process enhances the appeal of the listing without altering factual information.\n",
      "\n",
      " User Preferences Survey:\n",
      "What Neighborhoods are you considering? SoMa, Financial District, Russian Hill\n",
      "What are 3 most important things for you in choosing a property? Safety, price, and view\n",
      "How many bedrooms do you need? 2 or more.\n",
      "How manay bathromms do you need? 2 or more.\n",
      "\n",
      " Context: Neighborhood: Russian Hill\n",
      "Price: 1700000\n",
      "Bedrooms: 3\n",
      "Bathrooms: 2.5\n",
      "House Size: 1700\n",
      "Description: Elegant 3 bedroom, 2.5 bathroom townhouse with a private rooftop deck and views of the Golden Gate Bridge. Gourmet kitchen and luxurious master suite.\n",
      "Neighborhood Description: Russian Hill is a picturesque neighborhood with steep hills, historic cable cars, and stunning views of the bay.\n",
      "******\n",
      "Result: Nestled in the coveted Russian Hill neighborhood, this exquisite 3 bedroom, 2.5 bathroom townhouse embodies the essence of elegance and comfort. Safety is paramount in this peaceful area, allowing you to unwind and relax in tranquility. Priced at $1,700,000, this property offers not only a prime location but also a priceless view of the iconic Golden Gate Bridge, fulfilling your desire for a stunning vista.\n",
      "\n",
      "Step inside to discover a gourmet kitchen, perfect for culinary enthusiasts, and a luxurious master suite that provides a retreat-like ambiance. The private rooftop deck is an ideal spot to savor the breathtaking views that Russian Hill is renowned for. With 1700 square feet of living space, this townhouse offers ample room for you to create your dream sanctuary in the heart of the city.\n",
      "\n",
      "Don't miss this opportunity to own a slice of paradise in one of San Francisco's most sought-after neighborhoods, where historic charm meets modern luxury.\n",
      "#################################################\n",
      "Query: \n",
      "Based on the user preferences survey below and real estate listing in the context, augment the Description, tailoring it to resonate with the buyer’s specific preferences. \n",
      "This involves subtly emphasizing aspects of the property that align with what the buyer is looking for. Ensure that the augmentation process enhances the appeal of the listing without altering factual information.\n",
      "\n",
      " User Preferences Survey:\n",
      "What Neighborhoods are you considering? SoMa, Financial District, Russian Hill\n",
      "What are 3 most important things for you in choosing a property? Safety, price, and view\n",
      "How many bedrooms do you need? 2 or more.\n",
      "How manay bathromms do you need? 2 or more.\n",
      "\n",
      " Context: Neighborhood: Financial District\n",
      "Price: 1800000\n",
      "Bedrooms: 2\n",
      "Bathrooms: 2.5\n",
      "House Size: 1600\n",
      "Description: Luxurious 2 bedroom, 2.5 bathroom penthouse with panoramic views of the Bay Bridge and skyline. Gourmet kitchen and marble bathrooms.\n",
      "Neighborhood Description: The Financial District is the heart of San Francisco's business district, with high-rise buildings and upscale dining options.\n",
      "******\n",
      "Result: Description Augmentation:\n",
      "Indulge in the epitome of luxury living with this exquisite 2 bedroom, 2.5 bathroom penthouse nestled in the prestigious Financial District. Boasting breathtaking panoramic views of the iconic Bay Bridge and city skyline, this residence is a sanctuary for those seeking unparalleled vistas. The gourmet kitchen and opulent marble bathrooms exude sophistication and elegance, catering to your refined taste. Safety is paramount in this secure neighborhood, offering you peace of mind. Priced competitively at $1,800,000, this property seamlessly combines luxury, safety, and stunning views, fulfilling your top priorities in a home. Experience the pinnacle of urban living in one of San Francisco's most coveted neighborhoods.\n",
      "#################################################\n",
      "Query: \n",
      "Based on the user preferences survey below and real estate listing in the context, augment the Description, tailoring it to resonate with the buyer’s specific preferences. \n",
      "This involves subtly emphasizing aspects of the property that align with what the buyer is looking for. Ensure that the augmentation process enhances the appeal of the listing without altering factual information.\n",
      "\n",
      " User Preferences Survey:\n",
      "What Neighborhoods are you considering? SoMa, Financial District, Russian Hill\n",
      "What are 3 most important things for you in choosing a property? Safety, price, and view\n",
      "How many bedrooms do you need? 2 or more.\n",
      "How manay bathromms do you need? 2 or more.\n",
      "\n",
      " Context: Neighborhood: Mission District\n",
      "Price: 1100000\n",
      "Bedrooms: 2\n",
      "Bathrooms: 1.5\n",
      "House Size: 1100\n",
      "Description: Remodeled 2 bedroom, 1.5 bathroom Victorian home with a landscaped backyard. Original details and modern amenities.\n",
      "Neighborhood Description: The Mission District is a diverse neighborhood with vibrant murals, hipster cafes, and trendy shops.\n",
      "******\n",
      "Result: Description (Augmented):\n",
      "Nestled in the heart of the Mission District, this remodeled 2-bedroom, 1.5-bathroom Victorian home exudes charm and character. Step inside to discover a perfect blend of original details and modern amenities, creating a cozy and inviting living space. The landscaped backyard provides a tranquil retreat in the midst of the bustling city.\n",
      "\n",
      "Neighborhood Description: Embrace the vibrant culture of the Mission District, where colorful murals adorn the streets, hipster cafes beckon for a morning latte, and trendy shops offer unique finds. Immerse yourself in this diverse neighborhood known for its sense of community and artistic flair. Enjoy the bustling energy of the Mission while coming home to your own peaceful oasis.\n",
      "#################################################\n",
      "Query: \n",
      "Based on the user preferences survey below and real estate listing in the context, augment the Description, tailoring it to resonate with the buyer’s specific preferences. \n",
      "This involves subtly emphasizing aspects of the property that align with what the buyer is looking for. Ensure that the augmentation process enhances the appeal of the listing without altering factual information.\n",
      "\n",
      " User Preferences Survey:\n",
      "What Neighborhoods are you considering? SoMa, Financial District, Russian Hill\n",
      "What are 3 most important things for you in choosing a property? Safety, price, and view\n",
      "How many bedrooms do you need? 2 or more.\n",
      "How manay bathromms do you need? 2 or more.\n",
      "\n",
      " Context: Neighborhood: Chinatown\n",
      "Price: 1000000\n",
      "Bedrooms: 2\n",
      "Bathrooms: 1\n",
      "House Size: 1000\n",
      "Description: Spacious 2 bedroom, 1 bathroom condo with a modern kitchen and hardwood floors. Walking distance to Chinatown's vibrant shops and restaurants.\n",
      "Neighborhood Description: Chinatown is a bustling neighborhood with colorful lanterns, dim sum restaurants, and traditional Chinese architecture.\n",
      "******\n",
      "Result: This charming 2 bedroom, 1 bathroom condo in the heart of Chinatown offers a cozy retreat in a vibrant neighborhood. While the property may not meet all your requirements, it boasts a modern kitchen and hardwood floors, perfect for those seeking a blend of comfort and style. The proximity to Chinatown's lively shops and restaurants adds a touch of excitement to everyday living. Imagine waking up to the sights and sounds of this bustling neighborhood, where traditional Chinese architecture meets contemporary convenience. Explore the flavors of Chinatown while enjoying the safety and charm of this unique community. Live in the midst of cultural richness at a price that allows you to invest in your ideal view in the future.\n",
      "#################################################\n"
     ]
    }
   ],
   "source": [
    "for similar_doc in similar_docs:\n",
    "    query = prompt.format(instruction=instruction, user_preferences=user_preferences, context=similar_doc.page_content)\n",
    "    result = llm.predict(query)\n",
    "    print(\"Query:\", query)\n",
    "    print(\"******\")\n",
    "    print(\"Result:\", result)\n",
    "    print(\"#################################################\")"
   ]
  }
 ],
 "metadata": {
  "kernelspec": {
   "display_name": "Python 3 (ipykernel)",
   "language": "python",
   "name": "python3"
  },
  "language_info": {
   "codemirror_mode": {
    "name": "ipython",
    "version": 3
   },
   "file_extension": ".py",
   "mimetype": "text/x-python",
   "name": "python",
   "nbconvert_exporter": "python",
   "pygments_lexer": "ipython3",
   "version": "3.10.11"
  }
 },
 "nbformat": 4,
 "nbformat_minor": 5
}
